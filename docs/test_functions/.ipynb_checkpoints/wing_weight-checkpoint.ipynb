{
 "cells": [
  {
   "cell_type": "markdown",
   "metadata": {},
   "source": [
    "# Wing Weight Function\n",
    "\n",
    "The Wing Weight test function is a 10-dimensional scalar-valued function {cite}`forresterEngineeringDesignSurrogate2008`."
   ]
  },
  {
   "cell_type": "code",
   "execution_count": 1,
   "metadata": {},
   "outputs": [],
   "source": [
    "import numpy as np\n",
    "import matplotlib.pyplot as plt\n",
    "from uqtestfuns import WingWeight"
   ]
  },
  {
   "cell_type": "markdown",
   "metadata": {},
   "source": [
    "Create an instance of the wing weight test function with the default input:"
   ]
  },
  {
   "cell_type": "code",
   "execution_count": 2,
   "metadata": {},
   "outputs": [],
   "source": [
    "my_testfun = WingWeight()"
   ]
  },
  {
   "cell_type": "markdown",
   "metadata": {},
   "source": [
    "## Description\n",
    "\n",
    "The weight of a light aircraft wing is computed using the following analytical expression:\n",
    "\n",
    "$$\n",
    "\\mathcal{M}(\\boldsymbol{x}) = 0.036 \\, S_w^{0.758} \\, W_{fw}^{0.0035} \\, \\left( \\frac{A}{\\cos^2{(\\Lambda)}} \\right)^{0.6} q^{0.006} \\lambda^{0.04} \\left(\\frac{100 t_c}{\\cos{(\\Lambda)}}\\right)^{-0.3} \\left( N_z W_{dg} \\right)^{0.49} + S_w W_p \n",
    "$$\n",
    "\n",
    "where $\\boldsymbol{x} = \\{ S_w, W_{fw}, A, \\Lambda, q, \\lambda, t_c, N_z, W_{dg}, W_p\\}$ is the vector of input variables defined below.\n"
   ]
  },
  {
   "cell_type": "markdown",
   "metadata": {},
   "source": [
    "## Inputs\n",
    "\n",
    "The ten input variables of the wing weight function are modeled as independent uniform random variables with specified ranges shown in the table below."
   ]
  },
  {
   "cell_type": "code",
   "execution_count": 3,
   "metadata": {},
   "outputs": [
    {
     "data": {
      "text/html": [
       "<table>\n",
       "<thead>\n",
       "<tr><th style=\"text-align: right;\">  No.</th><th style=\"text-align: center;\"> Name </th><th style=\"text-align: center;\"> Distribution </th><th style=\"text-align: center;\"> Parameters  </th><th style=\"text-align: center;\">             Description             </th></tr>\n",
       "</thead>\n",
       "<tbody>\n",
       "<tr><td style=\"text-align: right;\">    1</td><td style=\"text-align: center;\">  Sw  </td><td style=\"text-align: center;\">   uniform    </td><td style=\"text-align: center;\">  [150 200]  </td><td style=\"text-align: center;\">          wing area [ft^2]           </td></tr>\n",
       "<tr><td style=\"text-align: right;\">    2</td><td style=\"text-align: center;\"> Wfw  </td><td style=\"text-align: center;\">   uniform    </td><td style=\"text-align: center;\">  [220 300]  </td><td style=\"text-align: center;\">   weight of fuel in the wing [lb]   </td></tr>\n",
       "<tr><td style=\"text-align: right;\">    3</td><td style=\"text-align: center;\">  A   </td><td style=\"text-align: center;\">   uniform    </td><td style=\"text-align: center;\">   [ 6 10]   </td><td style=\"text-align: center;\">          aspect ratio [-]           </td></tr>\n",
       "<tr><td style=\"text-align: right;\">    4</td><td style=\"text-align: center;\">Lambda</td><td style=\"text-align: center;\">   uniform    </td><td style=\"text-align: center;\">  [-10  10]  </td><td style=\"text-align: center;\">    quarter-chord sweep [degrees]    </td></tr>\n",
       "<tr><td style=\"text-align: right;\">    5</td><td style=\"text-align: center;\">  q   </td><td style=\"text-align: center;\">   uniform    </td><td style=\"text-align: center;\">   [16 45]   </td><td style=\"text-align: center;\">dynamic pressure at cruise [lb/ft^2] </td></tr>\n",
       "<tr><td style=\"text-align: right;\">    6</td><td style=\"text-align: center;\">lambda</td><td style=\"text-align: center;\">   uniform    </td><td style=\"text-align: center;\">  [0.5 1. ]  </td><td style=\"text-align: center;\">           taper ratio [-]           </td></tr>\n",
       "<tr><td style=\"text-align: right;\">    7</td><td style=\"text-align: center;\">  tc  </td><td style=\"text-align: center;\">   uniform    </td><td style=\"text-align: center;\"> [0.08 0.18] </td><td style=\"text-align: center;\">aerofoil thickness to chord ratio [-]</td></tr>\n",
       "<tr><td style=\"text-align: right;\">    8</td><td style=\"text-align: center;\">  Nz  </td><td style=\"text-align: center;\">   uniform    </td><td style=\"text-align: center;\">  [2.5 6. ]  </td><td style=\"text-align: center;\">      ultimate load factor [-]       </td></tr>\n",
       "<tr><td style=\"text-align: right;\">    9</td><td style=\"text-align: center;\"> Wdg  </td><td style=\"text-align: center;\">   uniform    </td><td style=\"text-align: center;\"> [1700 2500] </td><td style=\"text-align: center;\">   flight design gross weight [lb]   </td></tr>\n",
       "<tr><td style=\"text-align: right;\">   10</td><td style=\"text-align: center;\">  Wp  </td><td style=\"text-align: center;\">   uniform    </td><td style=\"text-align: center;\">[0.025 0.08 ]</td><td style=\"text-align: center;\">       paint weight [lb/ft^2]        </td></tr>\n",
       "</tbody>\n",
       "</table>"
      ],
      "text/plain": [
       "MultivariateInput(spatial_dimension=10, marginals=[UnivariateInput(name='Sw', distribution='uniform', parameters=array([150, 200]), description='wing area [ft^2]'), UnivariateInput(name='Wfw', distribution='uniform', parameters=array([220, 300]), description='weight of fuel in the wing [lb]'), UnivariateInput(name='A', distribution='uniform', parameters=array([ 6, 10]), description='aspect ratio [-]'), UnivariateInput(name='Lambda', distribution='uniform', parameters=array([-10,  10]), description='quarter-chord sweep [degrees]'), UnivariateInput(name='q', distribution='uniform', parameters=array([16, 45]), description='dynamic pressure at cruise [lb/ft^2]'), UnivariateInput(name='lambda', distribution='uniform', parameters=array([0.5, 1. ]), description='taper ratio [-]'), UnivariateInput(name='tc', distribution='uniform', parameters=array([0.08, 0.18]), description='aerofoil thickness to chord ratio [-]'), UnivariateInput(name='Nz', distribution='uniform', parameters=array([2.5, 6. ]), description='ultimate load factor [-]'), UnivariateInput(name='Wdg', distribution='uniform', parameters=array([1700, 2500]), description='flight design gross weight [lb]'), UnivariateInput(name='Wp', distribution='uniform', parameters=array([0.025, 0.08 ]), description='paint weight [lb/ft^2]')], copulas=None)"
      ]
     },
     "execution_count": 3,
     "metadata": {},
     "output_type": "execute_result"
    }
   ],
   "source": [
    "my_testfun.input"
   ]
  },
  {
   "cell_type": "markdown",
   "metadata": {},
   "source": [
    "## Reference Results"
   ]
  },
  {
   "cell_type": "markdown",
   "metadata": {},
   "source": [
    "Generate a random sample of input/output pairs:"
   ]
  },
  {
   "cell_type": "code",
   "execution_count": 4,
   "metadata": {},
   "outputs": [],
   "source": [
    "xx_test = my_testfun.input.get_sample(10000)\n",
    "yy_test = my_testfun(xx_test)"
   ]
  },
  {
   "cell_type": "markdown",
   "metadata": {},
   "source": [
    "Create a histogram of the raw output (i.e., the weight of the wing):"
   ]
  },
  {
   "cell_type": "code",
   "execution_count": 5,
   "metadata": {},
   "outputs": [
    {
     "data": {
      "image/png": "[encoded data removed]",
      "text/plain": [
       "<Figure size 640x480 with 1 Axes>"
      ]
     },
     "metadata": {},
     "output_type": "display_data"
    }
   ],
   "source": [
    "plt.hist(yy_test, bins=\"auto\");\n",
    "plt.grid();\n",
    "plt.ylabel(\"Counts [-]\");\n",
    "plt.xlabel(\"$\\mathcal{M}(\\mathbf{X})$\");"
   ]
  },
  {
   "cell_type": "markdown",
   "metadata": {},
   "source": [
    "## References\n",
    "\n",
    "```{bibliography}\n",
    ":style: plain\n",
    ":filter: docname in docnames\n",
    "```"
   ]
  }
 ],
 "metadata": {
  "jupytext": {
   "formats": "ipynb,md:myst"
  },
  "kernelspec": {
   "display_name": "Python 3 (ipykernel)",
   "language": "python",
   "name": "python3"
  },
  "language_info": {
   "codemirror_mode": {
    "name": "ipython",
    "version": 3
   },
   "file_extension": ".py",
   "mimetype": "text/x-python",
   "name": "python",
   "nbconvert_exporter": "python",
   "pygments_lexer": "ipython3",
   "version": "3.7.13"
  },
  "widgets": {
   "application/vnd.jupyter.widget-state+json": {
    "state": {},
    "version_major": 2,
    "version_minor": 0
   }
  }
 },
 "nbformat": 4,
 "nbformat_minor": 4
}
